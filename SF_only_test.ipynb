{
 "cells": [
  {
   "cell_type": "code",
   "execution_count": 1,
   "metadata": {},
   "outputs": [
    {
     "name": "stdout",
     "output_type": "stream",
     "text": [
      "README.md                            kevin_cleaning.ipynb\r\n",
      "SF_only_test.ipynb                   klean_csv.csv\r\n",
      "config.js                            map-fatal-accidents-inspiration.png\r\n",
      "data-18-1-project-2.pdf              nyc-open-data-accident.png\r\n",
      "index.html                           \u001b[34mstatic\u001b[m\u001b[m/\r\n",
      "index.html.backup                    tasks.txt\r\n",
      "\u001b[34minspiration images\u001b[m\u001b[m/                  top-5-cities-ca-tx.py\r\n"
     ]
    }
   ],
   "source": [
    "ls"
   ]
  },
  {
   "cell_type": "code",
   "execution_count": 2,
   "metadata": {},
   "outputs": [
    {
     "name": "stdout",
     "output_type": "stream",
     "text": [
      "/Users/christopherjanssen/odrive/swingsetwood - Personal/bootcamp/Accident-Visualization/New Branch/Accident_Visualization/static/data\n"
     ]
    }
   ],
   "source": [
    "cd static/data/"
   ]
  },
  {
   "cell_type": "code",
   "execution_count": 4,
   "metadata": {},
   "outputs": [],
   "source": [
    "import pandas as pd"
   ]
  },
  {
   "cell_type": "code",
   "execution_count": 5,
   "metadata": {},
   "outputs": [],
   "source": [
    "df_all = pd.read_csv(\"data.csv\")"
   ]
  },
  {
   "cell_type": "code",
   "execution_count": 17,
   "metadata": {},
   "outputs": [],
   "source": [
    "df_oak = df_all[df_all[\"City\"].str.contains(\"Oakland\")]"
   ]
  },
  {
   "cell_type": "code",
   "execution_count": 19,
   "metadata": {},
   "outputs": [],
   "source": [
    "df_oak.to_csv(\"oakland_only.csv\")"
   ]
  },
  {
   "cell_type": "code",
   "execution_count": null,
   "metadata": {},
   "outputs": [],
   "source": []
  }
 ],
 "metadata": {
  "kernelspec": {
   "display_name": "Python 3",
   "language": "python",
   "name": "python3"
  },
  "language_info": {
   "codemirror_mode": {
    "name": "ipython",
    "version": 3
   },
   "file_extension": ".py",
   "mimetype": "text/x-python",
   "name": "python",
   "nbconvert_exporter": "python",
   "pygments_lexer": "ipython3",
   "version": "3.7.3"
  }
 },
 "nbformat": 4,
 "nbformat_minor": 2
}
